{
 "cells": [
  {
   "cell_type": "markdown",
   "id": "fa3e5936-b81d-4743-a4b4-54a543128e56",
   "metadata": {},
   "source": [
    "# Task 1: `Data Analysis Project Using Python`"
   ]
  },
  {
   "cell_type": "markdown",
   "id": "d130576e-efc5-4bb6-9995-aa0f066bb216",
   "metadata": {},
   "source": [
    "## Student Performance Analysis using Python\n",
    "This project analyzes a dataset of student exam scores and answer specific questions, presenting findings using Python libraries and techniques for data analysis."
   ]
  },
  {
   "cell_type": "markdown",
   "id": "87ef6369-2a83-43ef-bed0-10fe1d580c59",
   "metadata": {},
   "source": [
    "### Step 1: Import Required Libraries\n",
    "In this step, we import the Python librarie required for data analysis and visualization.\n",
    "\n",
    "- we use `pandas`, `numpy`, `matplotlib` and `seaborn` for data analysis and charts."
   ]
  },
  {
   "cell_type": "code",
   "execution_count": 1,
   "id": "e034618e-929d-4f5a-80c1-9eef2fbb2777",
   "metadata": {},
   "outputs": [],
   "source": [
    "import pandas as pd\n",
    "import numpy as np\n",
    "import matplotlib.pyplot as plt\n",
    "import seaborn as sns\n",
    "\n",
    "# set seaborn style for plots\n",
    "sns.set(style=\"whitegrid\")"
   ]
  },
  {
   "cell_type": "markdown",
   "id": "2daa8e4e-9ed9-4ae1-9599-1dfbf8750e33",
   "metadata": {},
   "source": [
    "### Step 2: Loading the Dataset\n",
    "\n",
    "- Here, we loaded the student performance dataset using `pandas`.\n",
    "- This dataset includes student details like study time, grades, and other attributes.\n"
   ]
  },
  {
   "cell_type": "code",
   "execution_count": 2,
   "id": "a0e43544-197d-4655-830f-9b317e4f2728",
   "metadata": {},
   "outputs": [
    {
     "data": {
      "text/html": [
       "<div>\n",
       "<style scoped>\n",
       "    .dataframe tbody tr th:only-of-type {\n",
       "        vertical-align: middle;\n",
       "    }\n",
       "\n",
       "    .dataframe tbody tr th {\n",
       "        vertical-align: top;\n",
       "    }\n",
       "\n",
       "    .dataframe thead th {\n",
       "        text-align: right;\n",
       "    }\n",
       "</style>\n",
       "<table border=\"1\" class=\"dataframe\">\n",
       "  <thead>\n",
       "    <tr style=\"text-align: right;\">\n",
       "      <th></th>\n",
       "      <th>school</th>\n",
       "      <th>sex</th>\n",
       "      <th>age</th>\n",
       "      <th>address</th>\n",
       "      <th>famsize</th>\n",
       "      <th>Pstatus</th>\n",
       "      <th>Medu</th>\n",
       "      <th>Fedu</th>\n",
       "      <th>Mjob</th>\n",
       "      <th>Fjob</th>\n",
       "      <th>...</th>\n",
       "      <th>famrel</th>\n",
       "      <th>freetime</th>\n",
       "      <th>goout</th>\n",
       "      <th>Dalc</th>\n",
       "      <th>Walc</th>\n",
       "      <th>health</th>\n",
       "      <th>absences</th>\n",
       "      <th>G1</th>\n",
       "      <th>G2</th>\n",
       "      <th>G3</th>\n",
       "    </tr>\n",
       "  </thead>\n",
       "  <tbody>\n",
       "    <tr>\n",
       "      <th>0</th>\n",
       "      <td>GP</td>\n",
       "      <td>\"F\"</td>\n",
       "      <td>18</td>\n",
       "      <td>\"U\"</td>\n",
       "      <td>\"GT3\"</td>\n",
       "      <td>\"A\"</td>\n",
       "      <td>4</td>\n",
       "      <td>4</td>\n",
       "      <td>\"at_home\"</td>\n",
       "      <td>\"teacher\"</td>\n",
       "      <td>...</td>\n",
       "      <td>4</td>\n",
       "      <td>3</td>\n",
       "      <td>4</td>\n",
       "      <td>1</td>\n",
       "      <td>1</td>\n",
       "      <td>3</td>\n",
       "      <td>6</td>\n",
       "      <td>\"5\"</td>\n",
       "      <td>\"6\"</td>\n",
       "      <td>6</td>\n",
       "    </tr>\n",
       "    <tr>\n",
       "      <th>1</th>\n",
       "      <td>GP</td>\n",
       "      <td>\"F\"</td>\n",
       "      <td>17</td>\n",
       "      <td>\"U\"</td>\n",
       "      <td>\"GT3\"</td>\n",
       "      <td>\"T\"</td>\n",
       "      <td>1</td>\n",
       "      <td>1</td>\n",
       "      <td>\"at_home\"</td>\n",
       "      <td>\"other\"</td>\n",
       "      <td>...</td>\n",
       "      <td>5</td>\n",
       "      <td>3</td>\n",
       "      <td>3</td>\n",
       "      <td>1</td>\n",
       "      <td>1</td>\n",
       "      <td>3</td>\n",
       "      <td>4</td>\n",
       "      <td>\"5\"</td>\n",
       "      <td>\"5\"</td>\n",
       "      <td>6</td>\n",
       "    </tr>\n",
       "    <tr>\n",
       "      <th>2</th>\n",
       "      <td>GP</td>\n",
       "      <td>\"F\"</td>\n",
       "      <td>15</td>\n",
       "      <td>\"U\"</td>\n",
       "      <td>\"LE3\"</td>\n",
       "      <td>\"T\"</td>\n",
       "      <td>1</td>\n",
       "      <td>1</td>\n",
       "      <td>\"at_home\"</td>\n",
       "      <td>\"other\"</td>\n",
       "      <td>...</td>\n",
       "      <td>4</td>\n",
       "      <td>3</td>\n",
       "      <td>2</td>\n",
       "      <td>2</td>\n",
       "      <td>3</td>\n",
       "      <td>3</td>\n",
       "      <td>10</td>\n",
       "      <td>\"7\"</td>\n",
       "      <td>\"8\"</td>\n",
       "      <td>10</td>\n",
       "    </tr>\n",
       "    <tr>\n",
       "      <th>3</th>\n",
       "      <td>GP</td>\n",
       "      <td>\"F\"</td>\n",
       "      <td>15</td>\n",
       "      <td>\"U\"</td>\n",
       "      <td>\"GT3\"</td>\n",
       "      <td>\"T\"</td>\n",
       "      <td>4</td>\n",
       "      <td>2</td>\n",
       "      <td>\"health\"</td>\n",
       "      <td>\"services\"</td>\n",
       "      <td>...</td>\n",
       "      <td>3</td>\n",
       "      <td>2</td>\n",
       "      <td>2</td>\n",
       "      <td>1</td>\n",
       "      <td>1</td>\n",
       "      <td>5</td>\n",
       "      <td>2</td>\n",
       "      <td>\"15\"</td>\n",
       "      <td>\"14\"</td>\n",
       "      <td>15</td>\n",
       "    </tr>\n",
       "    <tr>\n",
       "      <th>4</th>\n",
       "      <td>GP</td>\n",
       "      <td>\"F\"</td>\n",
       "      <td>16</td>\n",
       "      <td>\"U\"</td>\n",
       "      <td>\"GT3\"</td>\n",
       "      <td>\"T\"</td>\n",
       "      <td>3</td>\n",
       "      <td>3</td>\n",
       "      <td>\"other\"</td>\n",
       "      <td>\"other\"</td>\n",
       "      <td>...</td>\n",
       "      <td>4</td>\n",
       "      <td>3</td>\n",
       "      <td>2</td>\n",
       "      <td>1</td>\n",
       "      <td>2</td>\n",
       "      <td>5</td>\n",
       "      <td>4</td>\n",
       "      <td>\"6\"</td>\n",
       "      <td>\"10\"</td>\n",
       "      <td>10</td>\n",
       "    </tr>\n",
       "  </tbody>\n",
       "</table>\n",
       "<p>5 rows × 33 columns</p>\n",
       "</div>"
      ],
      "text/plain": [
       "  school  sex  age address famsize Pstatus  Medu  Fedu       Mjob        Fjob  \\\n",
       "0     GP  \"F\"   18     \"U\"   \"GT3\"     \"A\"     4     4  \"at_home\"   \"teacher\"   \n",
       "1     GP  \"F\"   17     \"U\"   \"GT3\"     \"T\"     1     1  \"at_home\"     \"other\"   \n",
       "2     GP  \"F\"   15     \"U\"   \"LE3\"     \"T\"     1     1  \"at_home\"     \"other\"   \n",
       "3     GP  \"F\"   15     \"U\"   \"GT3\"     \"T\"     4     2   \"health\"  \"services\"   \n",
       "4     GP  \"F\"   16     \"U\"   \"GT3\"     \"T\"     3     3    \"other\"     \"other\"   \n",
       "\n",
       "   ... famrel freetime  goout  Dalc  Walc health absences    G1    G2  G3  \n",
       "0  ...      4        3      4     1     1      3        6   \"5\"   \"6\"   6  \n",
       "1  ...      5        3      3     1     1      3        4   \"5\"   \"5\"   6  \n",
       "2  ...      4        3      2     2     3      3       10   \"7\"   \"8\"  10  \n",
       "3  ...      3        2      2     1     1      5        2  \"15\"  \"14\"  15  \n",
       "4  ...      4        3      2     1     2      5        4   \"6\"  \"10\"  10  \n",
       "\n",
       "[5 rows x 33 columns]"
      ]
     },
     "execution_count": 2,
     "metadata": {},
     "output_type": "execute_result"
    }
   ],
   "source": [
    "# Load the dataset\n",
    "df = pd.read_csv(\"D:\\student-mat.csv\")\n",
    "\n",
    "# Displaying first few rows\n",
    "df.head()"
   ]
  },
  {
   "cell_type": "markdown",
   "id": "ad6e2e20-a6a2-47d8-bfb8-20c66da0496b",
   "metadata": {},
   "source": [
    "### Step 3: Exploring the Data\n",
    "\n",
    "We explored the dataset to understand:\n",
    "- If there are missing values\n",
    "- What types of data are in each column\n",
    "- The number of rows and columns"
   ]
  },
  {
   "cell_type": "code",
   "execution_count": 3,
   "id": "a9a71e3a-4816-4af4-aa2c-daf7144fbda0",
   "metadata": {},
   "outputs": [
    {
     "data": {
      "text/plain": [
       "school        0\n",
       "sex           0\n",
       "age           0\n",
       "address       0\n",
       "famsize       0\n",
       "Pstatus       0\n",
       "Medu          0\n",
       "Fedu          0\n",
       "Mjob          0\n",
       "Fjob          0\n",
       "reason        0\n",
       "guardian      0\n",
       "traveltime    0\n",
       "studytime     0\n",
       "failures      0\n",
       "schoolsup     0\n",
       "famsup        0\n",
       "paid          0\n",
       "activities    0\n",
       "nursery       0\n",
       "higher        0\n",
       "internet      0\n",
       "romantic      0\n",
       "famrel        0\n",
       "freetime      0\n",
       "goout         0\n",
       "Dalc          0\n",
       "Walc          0\n",
       "health        0\n",
       "absences      0\n",
       "G1            0\n",
       "G2            0\n",
       "G3            0\n",
       "dtype: int64"
      ]
     },
     "execution_count": 3,
     "metadata": {},
     "output_type": "execute_result"
    }
   ],
   "source": [
    "# check for missing values\n",
    "df.isnull().sum()"
   ]
  },
  {
   "cell_type": "code",
   "execution_count": 4,
   "id": "dc595a2b-194a-4858-bfd3-732b5b7c4999",
   "metadata": {},
   "outputs": [
    {
     "data": {
      "text/plain": [
       "school        object\n",
       "sex           object\n",
       "age            int64\n",
       "address       object\n",
       "famsize       object\n",
       "Pstatus       object\n",
       "Medu           int64\n",
       "Fedu           int64\n",
       "Mjob          object\n",
       "Fjob          object\n",
       "reason        object\n",
       "guardian      object\n",
       "traveltime     int64\n",
       "studytime      int64\n",
       "failures       int64\n",
       "schoolsup     object\n",
       "famsup        object\n",
       "paid          object\n",
       "activities    object\n",
       "nursery       object\n",
       "higher        object\n",
       "internet      object\n",
       "romantic      object\n",
       "famrel         int64\n",
       "freetime       int64\n",
       "goout          int64\n",
       "Dalc           int64\n",
       "Walc           int64\n",
       "health         int64\n",
       "absences       int64\n",
       "G1            object\n",
       "G2            object\n",
       "G3             int64\n",
       "dtype: object"
      ]
     },
     "execution_count": 4,
     "metadata": {},
     "output_type": "execute_result"
    }
   ],
   "source": [
    "#check the data types of columns\n",
    "df.dtypes"
   ]
  },
  {
   "cell_type": "code",
   "execution_count": 5,
   "id": "1446bbdc-40fb-460e-811f-9a94a6bbf749",
   "metadata": {},
   "outputs": [
    {
     "data": {
      "text/plain": [
       "(395, 33)"
      ]
     },
     "execution_count": 5,
     "metadata": {},
     "output_type": "execute_result"
    }
   ],
   "source": [
    "#shape of the dataset\n",
    "df.shape"
   ]
  },
  {
   "cell_type": "markdown",
   "id": "b1109197-0f78-489b-a4c1-53d9da8c577d",
   "metadata": {},
   "source": [
    "### Step 4: Cleaning the Dataset\n",
    "We remove duplicate rows and fill any missing values to make sure the data is ready."
   ]
  },
  {
   "cell_type": "code",
   "execution_count": 6,
   "id": "07093c31-784a-40c7-b885-e5648598bf3f",
   "metadata": {},
   "outputs": [],
   "source": [
    "# Remove duplicate rows\n",
    "df= df.drop_duplicates()\n",
    "\n",
    "# Fill missing numeric values with median\n",
    "df.fillna(df.median(numeric_only=True), inplace=True)"
   ]
  },
  {
   "cell_type": "markdown",
   "id": "42470a1e-bc69-4d6e-a1df-fbb186ea4df8",
   "metadata": {},
   "source": [
    "### Step 5: Answer the Analysis Questions\n",
    "    In this section, we used the dataset to answer real-world questions about student performance.\n",
    "\n",
    "#### Q1. What is the average score in math (G3)?\n",
    " To understand overall performance, we calculated the average of math(G3)."
   ]
  },
  {
   "cell_type": "code",
   "execution_count": 7,
   "id": "5c493596-074e-4b29-8945-edb630a64514",
   "metadata": {},
   "outputs": [
    {
     "name": "stdout",
     "output_type": "stream",
     "text": [
      "Average G3 score:  10.415189873417722\n"
     ]
    }
   ],
   "source": [
    "average_g3 = df['G3'].mean()\n",
    "print(\"Average G3 score: \", average_g3)"
   ]
  },
  {
   "cell_type": "markdown",
   "id": "f6dd7350-2c74-4143-8fd5-edb168f7b3ad",
   "metadata": {},
   "source": [
    "\n",
    "\n",
    "#### Q2. How many students scored above 15 in their final grade (G3)?\n",
    "we checked how many students scored more than 15 marks in their final grade — this tells us how many top performers there are.\n"
   ]
  },
  {
   "cell_type": "code",
   "execution_count": 8,
   "id": "c2a7dbe1-e93f-4cf5-8224-1d608b267ef4",
   "metadata": {},
   "outputs": [
    {
     "name": "stdout",
     "output_type": "stream",
     "text": [
      "Number of students scoring above 15 in G3:  40\n"
     ]
    }
   ],
   "source": [
    "high_scores = df[df['G3']>15]\n",
    "print(\"Number of students scoring above 15 in G3: \", len(high_scores))"
   ]
  },
  {
   "cell_type": "markdown",
   "id": "c54127fb-59ba-45b4-99e7-5be1b76a4d52",
   "metadata": {},
   "source": [
    "#### Q3. Is there is a correlation between study time(study time) and the final grade(G3)?\n",
    "Here, we checked if studying more actually helps improve final grades by calculating the correlation."
   ]
  },
  {
   "cell_type": "code",
   "execution_count": 9,
   "id": "aadf3767-3a46-49a5-9bb5-8d9b553df809",
   "metadata": {},
   "outputs": [
    {
     "name": "stdout",
     "output_type": "stream",
     "text": [
      "Correlation between study time and G3:  0.0978196896531963\n"
     ]
    }
   ],
   "source": [
    "correlation = df['studytime'].corr(df['G3'])\n",
    "print(\"Correlation between study time and G3: \",correlation)"
   ]
  },
  {
   "cell_type": "markdown",
   "id": "f95bdcc7-4c93-416c-8b20-c2258cb0491b",
   "metadata": {},
   "source": [
    "#### Q4. Which gender has a higher average final grade(G3)?\n",
    "Here, we compared the average final grade (G3) between male and female students to see if there's a difference.\n"
   ]
  },
  {
   "cell_type": "code",
   "execution_count": 10,
   "id": "951b1323-6191-4550-b0a6-a674adfd3526",
   "metadata": {},
   "outputs": [
    {
     "name": "stdout",
     "output_type": "stream",
     "text": [
      "Average G3 scores by gender:  sex\n",
      "\"F\"     9.966346\n",
      "\"M\"    10.914439\n",
      "Name: G3, dtype: float64\n"
     ]
    }
   ],
   "source": [
    "gender_avg = df.groupby('sex')['G3'].mean()\n",
    "print(\"Average G3 scores by gender: \",gender_avg)"
   ]
  },
  {
   "cell_type": "markdown",
   "id": "ee8ed8c1-353b-47fc-ba34-b7239cbaa362",
   "metadata": {},
   "source": [
    "### Step 6: Data Visualizations\n",
    "    We create graphs to visualize the trends and patterns found in the data.\n",
    "#### 1. Histogram of Final Grades\n",
    "This histogram helps us see how final grades (`G3`) are distributed across all students."
   ]
  },
  {
   "cell_type": "code",
   "execution_count": 11,
   "id": "f6095ff0-d8e9-4cf7-aede-55b7ec43ae37",
   "metadata": {},
   "outputs": [
    {
     "data": {
      "image/png": "[encoded data removed]",
      "text/plain": [
       "<Figure size 640x480 with 1 Axes>"
      ]
     },
     "metadata": {},
     "output_type": "display_data"
    }
   ],
   "source": [
    "plt.hist(df['G3'], bins=10, color='skyblue', edgecolor='black')\n",
    "plt.title('Distribution of Final Grades')\n",
    "plt.xlabel('Final Grade (G3)')\n",
    "plt.ylabel('Number of Students')\n",
    "plt.show()"
   ]
  },
  {
   "cell_type": "markdown",
   "id": "28517d0d-3162-45df-a774-d8ce4e28128f",
   "metadata": {},
   "source": [
    "#### 2. Scatter Plot of Study Time vs G3\n",
    "This scatter plot shows the relationship between the amount of study time and the final grade, broken down by gender."
   ]
  },
  {
   "cell_type": "code",
   "execution_count": 12,
   "id": "9e05f0c9-4c80-4f3b-a91a-97b8eff262ab",
   "metadata": {},
   "outputs": [
    {
     "data": {
      "image/png": "[encoded data removed]",
      "text/plain": [
       "<Figure size 640x480 with 1 Axes>"
      ]
     },
     "metadata": {},
     "output_type": "display_data"
    }
   ],
   "source": [
    "sns.scatterplot(data=df, x='studytime', y='G3', hue='sex')\n",
    "plt.title('Study Time vs Final Grade (G3)')\n",
    "plt.xlabel('Study Time (hours/week)')\n",
    "plt.ylabel('Final Grade (G3)')\n",
    "plt.show()"
   ]
  },
  {
   "cell_type": "markdown",
   "id": "b6311dac-592a-47b8-ab5b-9e9d0aa065cd",
   "metadata": {},
   "source": [
    "####  3. Bar Chart of Average G3 by Gender\n",
    "This bar chart helps us compare the average final grades between male and female students."
   ]
  },
  {
   "cell_type": "code",
   "execution_count": 13,
   "id": "fc0895d5-18b9-41b6-a434-5fff201a9442",
   "metadata": {},
   "outputs": [
    {
     "data": {
      "image/png": "[encoded data removed]",
      "text/plain": [
       "<Figure size 640x480 with 1 Axes>"
      ]
     },
     "metadata": {},
     "output_type": "display_data"
    }
   ],
   "source": [
    "sns.barplot(x='sex', y='G3', data=df)\n",
    "plt.title('Average Final Grade by Gender')\n",
    "plt.xlabel('Gender')\n",
    "plt.ylabel('Average Final Grade (G3)')\n",
    "plt.show()"
   ]
  },
  {
   "cell_type": "markdown",
   "id": "91c4378d-f564-40eb-9908-7fb060e4a3ae",
   "metadata": {},
   "source": [
    "### Step 8: Project Conclusion\n",
    "In this project, I explored the **Student Performance Dataset** and performed data analysis using Python."
   ]
  }
 ],
 "metadata": {
  "kernelspec": {
   "display_name": "Python 3 (ipykernel)",
   "language": "python",
   "name": "python3"
  },
  "language_info": {
   "codemirror_mode": {
    "name": "ipython",
    "version": 3
   },
   "file_extension": ".py",
   "mimetype": "text/x-python",
   "name": "python",
   "nbconvert_exporter": "python",
   "pygments_lexer": "ipython3",
   "version": "3.13.5"
  }
 },
 "nbformat": 4,
 "nbformat_minor": 5
}
